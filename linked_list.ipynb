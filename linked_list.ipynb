{
 "cells": [
  {
   "cell_type": "markdown",
   "metadata": {},
   "source": [
    "### **Creating Node**"
   ]
  },
  {
   "cell_type": "code",
   "execution_count": 1,
   "metadata": {},
   "outputs": [],
   "source": [
    "#----- creating node -----#\n",
    "class Node:\n",
    "\n",
    "    # constructor\n",
    "    def __init__(self, value):\n",
    "\n",
    "        # assign value to the data part\n",
    "        self.data = value\n",
    "\n",
    "        # store null in the memory address part \n",
    "        self.next = None"
   ]
  },
  {
   "cell_type": "code",
   "execution_count": 2,
   "metadata": {},
   "outputs": [],
   "source": [
    "# create node object with value\n",
    "a = Node(1)\n",
    "b = Node(2)\n",
    "c = Node(3)"
   ]
  },
  {
   "cell_type": "code",
   "execution_count": 3,
   "metadata": {},
   "outputs": [
    {
     "name": "stdout",
     "output_type": "stream",
     "text": [
      "<__main__.Node object at 0x103ad8580>\n"
     ]
    }
   ],
   "source": [
    "print(a)"
   ]
  },
  {
   "cell_type": "code",
   "execution_count": 4,
   "metadata": {},
   "outputs": [
    {
     "name": "stdout",
     "output_type": "stream",
     "text": [
      "1\n"
     ]
    }
   ],
   "source": [
    "print(a.data)"
   ]
  },
  {
   "cell_type": "code",
   "execution_count": 5,
   "metadata": {},
   "outputs": [
    {
     "name": "stdout",
     "output_type": "stream",
     "text": [
      "None\n"
     ]
    }
   ],
   "source": [
    "print(a.next)"
   ]
  },
  {
   "cell_type": "code",
   "execution_count": 6,
   "metadata": {},
   "outputs": [
    {
     "data": {
      "text/plain": [
       "(4356670848, 4356681360, 4356682608)"
      ]
     },
     "execution_count": 6,
     "metadata": {},
     "output_type": "execute_result"
    }
   ],
   "source": [
    "# memory locations where a,b,c values are stored\n",
    "id(a), id(b), id(c)"
   ]
  },
  {
   "cell_type": "code",
   "execution_count": 7,
   "metadata": {},
   "outputs": [],
   "source": [
    "# to create LL -> connect them\n",
    "a.next = id(b)\n",
    "b.next = id(c)"
   ]
  },
  {
   "cell_type": "code",
   "execution_count": 10,
   "metadata": {},
   "outputs": [
    {
     "name": "stdout",
     "output_type": "stream",
     "text": [
      "4356681360 4356682608 None\n"
     ]
    }
   ],
   "source": [
    "print(a.next, b.next, c.next)"
   ]
  },
  {
   "cell_type": "markdown",
   "metadata": {},
   "source": [
    "### **Creating Linked List**"
   ]
  },
  {
   "cell_type": "code",
   "execution_count": 11,
   "metadata": {},
   "outputs": [],
   "source": [
    "#----- creating node -----#\n",
    "class Node:\n",
    "\n",
    "    # constructor\n",
    "    def __init__(self, value):\n",
    "\n",
    "        # assign value to the data part\n",
    "        self.data = value\n",
    "\n",
    "        # store null in the memory address part \n",
    "        self.next = None"
   ]
  },
  {
   "cell_type": "code",
   "execution_count": 59,
   "metadata": {},
   "outputs": [],
   "source": [
    "#----- creating LL -----#\n",
    "class LinkedList:\n",
    "\n",
    "    # constructor\n",
    "    def __init__(self):\n",
    "\n",
    "        # create empty LL(list with 0 nodes)\n",
    "        self.head = None\n",
    "\n",
    "        # number of nodes in LL\n",
    "        self.n = 0        \n",
    "\n",
    "    \n",
    "    #----- len(): count number of nodes in LL -----#\n",
    "    def __len__(self):      # magic method\n",
    "\n",
    "        # return number of nodes\n",
    "        return self.n\n",
    "\n",
    "    \n",
    "    #----- insert at head -----#\n",
    "    def insert_head(self, value):\n",
    "\n",
    "        # create new node with value to be inserted\n",
    "        new_node = Node(value)\n",
    "\n",
    "        # create connection\n",
    "        new_node.next = self.head\n",
    "\n",
    "        # reassign head\n",
    "        self.head = new_node\n",
    "\n",
    "        # increment n\n",
    "        self.n = self.n + 1\n",
    "\n",
    "\n",
    "    #----- traverse() -----#\n",
    "    def __str__(self):\n",
    "\n",
    "        # make 1st node as current element\n",
    "        curr = self.head\n",
    "\n",
    "        # initialize result\n",
    "        result = ''\n",
    "\n",
    "        # traverse over each element\n",
    "        while curr != None:\n",
    "\n",
    "            # print LL\n",
    "            result = result + str(curr.data) + '->' \n",
    "\n",
    "            # make curr as next node's address\n",
    "            curr = curr.next\n",
    "        \n",
    "        # return result without last 2 characters '->'\n",
    "        return result[:-2]\n",
    "\n",
    "\n",
    "    #----- append(): inserting at tail -----#\n",
    "    def append(self, value):\n",
    "\n",
    "        # create new node with value to be inserted\n",
    "        new_node = Node(value)\n",
    "\n",
    "        # make head as current node\n",
    "        curr = self.head\n",
    "\n",
    "        # traverse over LL upto node where memory address is non-null\n",
    "        while curr.next != None:\n",
    "\n",
    "            # increment current by 1\n",
    "            curr = curr.next\n",
    "\n",
    "        # you are at last node\n",
    "        curr.next = new_node"
   ]
  },
  {
   "cell_type": "code",
   "execution_count": 60,
   "metadata": {},
   "outputs": [],
   "source": [
    "L = LinkedList()"
   ]
  },
  {
   "cell_type": "markdown",
   "metadata": {},
   "source": [
    "### **len()**"
   ]
  },
  {
   "cell_type": "code",
   "execution_count": 61,
   "metadata": {},
   "outputs": [
    {
     "data": {
      "text/plain": [
       "0"
      ]
     },
     "execution_count": 61,
     "metadata": {},
     "output_type": "execute_result"
    }
   ],
   "source": [
    "len(L)"
   ]
  },
  {
   "cell_type": "markdown",
   "metadata": {},
   "source": [
    "### **insert_head**"
   ]
  },
  {
   "cell_type": "code",
   "execution_count": 62,
   "metadata": {},
   "outputs": [],
   "source": [
    "L.insert_head(1)\n",
    "L.insert_head(2)\n",
    "L.insert_head(3)\n",
    "L.insert_head(4)"
   ]
  },
  {
   "cell_type": "code",
   "execution_count": 63,
   "metadata": {},
   "outputs": [
    {
     "data": {
      "text/plain": [
       "4"
      ]
     },
     "execution_count": 63,
     "metadata": {},
     "output_type": "execute_result"
    }
   ],
   "source": [
    "len(L)"
   ]
  },
  {
   "cell_type": "markdown",
   "metadata": {},
   "source": [
    "### **traverse**"
   ]
  },
  {
   "cell_type": "code",
   "execution_count": 64,
   "metadata": {},
   "outputs": [
    {
     "name": "stdout",
     "output_type": "stream",
     "text": [
      "4->3->2->1\n"
     ]
    }
   ],
   "source": [
    "print(L)"
   ]
  },
  {
   "cell_type": "markdown",
   "metadata": {},
   "source": [
    "### **append**"
   ]
  },
  {
   "cell_type": "code",
   "execution_count": 65,
   "metadata": {},
   "outputs": [],
   "source": [
    "L.append(5)"
   ]
  },
  {
   "cell_type": "code",
   "execution_count": 66,
   "metadata": {},
   "outputs": [
    {
     "name": "stdout",
     "output_type": "stream",
     "text": [
      "4->3->2->1->5\n"
     ]
    }
   ],
   "source": [
    "print(L)"
   ]
  },
  {
   "cell_type": "code",
   "execution_count": null,
   "metadata": {},
   "outputs": [],
   "source": []
  }
 ],
 "metadata": {
  "kernelspec": {
   "display_name": "ds_env",
   "language": "python",
   "name": "python3"
  },
  "language_info": {
   "codemirror_mode": {
    "name": "ipython",
    "version": 3
   },
   "file_extension": ".py",
   "mimetype": "text/x-python",
   "name": "python",
   "nbconvert_exporter": "python",
   "pygments_lexer": "ipython3",
   "version": "3.10.4"
  },
  "orig_nbformat": 4
 },
 "nbformat": 4,
 "nbformat_minor": 2
}
