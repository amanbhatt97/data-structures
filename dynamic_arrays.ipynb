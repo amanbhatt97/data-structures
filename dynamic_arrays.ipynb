{
 "cells": [
  {
   "cell_type": "markdown",
   "metadata": {},
   "source": [
    "## **Creating Dynamic Array**"
   ]
  },
  {
   "cell_type": "markdown",
   "metadata": {},
   "source": [
    "**We will use 'C' array to create 'Python' list with following features:**<br>\n",
    "* len\n",
    "* append\n",
    "* print\n",
    "* indexing\n",
    "* pop\n",
    "* clear\n",
    "* find\n",
    "* insert\n",
    "* delete\n",
    "* remove"
   ]
  },
  {
   "cell_type": "code",
   "execution_count": 1,
   "metadata": {},
   "outputs": [],
   "source": [
    "# to call functions written in C\n",
    "import ctypes"
   ]
  },
  {
   "cell_type": "code",
   "execution_count": 2,
   "metadata": {},
   "outputs": [],
   "source": [
    "class MeraList:\n",
    "\n",
    "    #----- constructor -----#\n",
    "    def __init__(self):\n",
    "\n",
    "        # initialize size of array\n",
    "        self.size = 1\n",
    "\n",
    "        # initialize number of elements in array\n",
    "        self.n = 0\n",
    "\n",
    "        # create a C type array with size = self.size\n",
    "        self.A = self._make_array(self.size)\n",
    "\n",
    "\n",
    "    #----- creating list -----#\n",
    "    def _make_array(self, capacity):\n",
    "\n",
    "        # creating a Ctype array(static,referential) with capacity = size\n",
    "        return (capacity * ctypes.py_object)()    \n",
    "\n",
    "    \n",
    "    #----- len() -----#\n",
    "    def __len__(self):      # magic method  \n",
    "\n",
    "        # length = n\n",
    "        return self.n\n",
    "\n",
    "    \n",
    "    #----- append: add item at the end -----#\n",
    "    def append(self, item):\n",
    "\n",
    "        # check if array is full\n",
    "        if self.n == self.size:\n",
    "\n",
    "            # if array is full -> resize the array\n",
    "            self.__resize(self.size * 2)\n",
    "        \n",
    "        # append at A[n]\n",
    "        self.A[self.n] = item\n",
    "\n",
    "        # increment n by 1\n",
    "        self.n = self.n + 1\n",
    "\n",
    "    def __resize(self, new_capacity):\n",
    "        \n",
    "        # create array of new capacity\n",
    "        B = self._make_array(new_capacity)\n",
    "\n",
    "        # now, size = new capacity\n",
    "        self.size = new_capacity\n",
    "\n",
    "        # copy contents of A to B\n",
    "        for i in range(self.n):\n",
    "            B[i] = self.A[i]\n",
    "\n",
    "        # reassign A\n",
    "        self.A = B\n",
    "\n",
    "\n",
    "    #----- print() -----#\n",
    "    def __str__(self):      # magic method\n",
    "\n",
    "        # initialize result\n",
    "        result = ''\n",
    "\n",
    "        # loop over array and add elements\n",
    "        for i in range(self.n):\n",
    "            result = result + str(self.A[i]) + ','\n",
    "\n",
    "        return '[' + result[:-1] + ']'\n",
    "\n",
    "    \n",
    "    #----- indexing: access element -----#\n",
    "    def __getitem__(self, index):       # magic method\n",
    "\n",
    "        # if index is between 0 and self.n\n",
    "        if 0 <= index < self.n:\n",
    "            return self.A[index]\n",
    "\n",
    "        else:\n",
    "            return 'IndexError: list index out of range'\n",
    "\n",
    "\n",
    "    #----- pop: remove item from end -----#\n",
    "    def pop(self):\n",
    "        \n",
    "        # if list is empty\n",
    "        if self.n == 0:\n",
    "            return 'IndexError: pop from empty list'\n",
    "\n",
    "        # print ppping element\n",
    "        print(self.A[self.n-1])  \n",
    "\n",
    "        # decrement n by 1\n",
    "        self.n = self.n - 1\n",
    "    \n",
    "\n",
    "    #----- clear: remove all items -----#\n",
    "    def clear(self):\n",
    "        \n",
    "        self.size = 1\n",
    "        self.n = 0\n",
    "\n",
    "    \n",
    "    #----- find: returns index of item -----#\n",
    "    def find(self, item):\n",
    "\n",
    "        for i in range(self.n):\n",
    "            if self.A[i] == item:\n",
    "                return i\n",
    "            \n",
    "        return 'ValueError: not in list'\n",
    "    \n",
    "\n",
    "    #----- insert: insert element at an index -----#\n",
    "    def insert(self, pos, item):\n",
    "\n",
    "        # if array is vacant -> resize\n",
    "        if self.n == self.size:\n",
    "            self.__resize(self.size * 2)\n",
    "\n",
    "        \n",
    "        for i in range(self.n, pos, -1):\n",
    "\n",
    "            # move the items ahead\n",
    "            self.A[i] = self.A[i-1]\n",
    "\n",
    "        # paste the item at required position\n",
    "        self.A[pos] = item\n",
    "\n",
    "        # now number of elements will be 1 more\n",
    "        self.n = self.n + 1\n"
   ]
  },
  {
   "cell_type": "code",
   "execution_count": 3,
   "metadata": {},
   "outputs": [],
   "source": [
    "# creating object\n",
    "L = MeraList()"
   ]
  },
  {
   "cell_type": "code",
   "execution_count": 4,
   "metadata": {},
   "outputs": [
    {
     "data": {
      "text/plain": [
       "__main__.MeraList"
      ]
     },
     "execution_count": 4,
     "metadata": {},
     "output_type": "execute_result"
    }
   ],
   "source": [
    "type(L)"
   ]
  },
  {
   "cell_type": "markdown",
   "metadata": {},
   "source": [
    "**L is an object of class MeraList**"
   ]
  },
  {
   "cell_type": "markdown",
   "metadata": {},
   "source": [
    "**It prints memory address of L** "
   ]
  },
  {
   "cell_type": "markdown",
   "metadata": {},
   "source": [
    "### **append**"
   ]
  },
  {
   "cell_type": "code",
   "execution_count": 5,
   "metadata": {},
   "outputs": [],
   "source": [
    "L.append('Hello')\n",
    "L.append(3.4)\n",
    "L.append(True)\n",
    "L.append(100)"
   ]
  },
  {
   "cell_type": "markdown",
   "metadata": {},
   "source": [
    "### **len**"
   ]
  },
  {
   "cell_type": "code",
   "execution_count": 6,
   "metadata": {},
   "outputs": [
    {
     "data": {
      "text/plain": [
       "4"
      ]
     },
     "execution_count": 6,
     "metadata": {},
     "output_type": "execute_result"
    }
   ],
   "source": [
    "len(L)"
   ]
  },
  {
   "cell_type": "markdown",
   "metadata": {},
   "source": [
    "### **print()**"
   ]
  },
  {
   "cell_type": "code",
   "execution_count": 7,
   "metadata": {},
   "outputs": [
    {
     "name": "stdout",
     "output_type": "stream",
     "text": [
      "[Hello,3.4,True,100]\n"
     ]
    }
   ],
   "source": [
    "print(L)"
   ]
  },
  {
   "cell_type": "markdown",
   "metadata": {},
   "source": [
    "### **indexing**"
   ]
  },
  {
   "cell_type": "code",
   "execution_count": 8,
   "metadata": {},
   "outputs": [
    {
     "data": {
      "text/plain": [
       "3.4"
      ]
     },
     "execution_count": 8,
     "metadata": {},
     "output_type": "execute_result"
    }
   ],
   "source": [
    "L[1]"
   ]
  },
  {
   "cell_type": "code",
   "execution_count": 9,
   "metadata": {},
   "outputs": [
    {
     "data": {
      "text/plain": [
       "'IndexError: list index out of range'"
      ]
     },
     "execution_count": 9,
     "metadata": {},
     "output_type": "execute_result"
    }
   ],
   "source": [
    "L[100]"
   ]
  },
  {
   "cell_type": "markdown",
   "metadata": {},
   "source": [
    "### **pop()**"
   ]
  },
  {
   "cell_type": "code",
   "execution_count": 10,
   "metadata": {},
   "outputs": [
    {
     "name": "stdout",
     "output_type": "stream",
     "text": [
      "100\n"
     ]
    }
   ],
   "source": [
    "L.pop()"
   ]
  },
  {
   "cell_type": "code",
   "execution_count": 11,
   "metadata": {},
   "outputs": [
    {
     "name": "stdout",
     "output_type": "stream",
     "text": [
      "[Hello,3.4,True]\n"
     ]
    }
   ],
   "source": [
    "print(L)"
   ]
  },
  {
   "cell_type": "markdown",
   "metadata": {},
   "source": [
    "### **clear()**"
   ]
  },
  {
   "cell_type": "code",
   "execution_count": 12,
   "metadata": {},
   "outputs": [],
   "source": [
    "L.clear()"
   ]
  },
  {
   "cell_type": "code",
   "execution_count": 13,
   "metadata": {},
   "outputs": [
    {
     "name": "stdout",
     "output_type": "stream",
     "text": [
      "[]\n"
     ]
    }
   ],
   "source": [
    "print(L)"
   ]
  },
  {
   "cell_type": "markdown",
   "metadata": {},
   "source": [
    "### **find()**"
   ]
  },
  {
   "cell_type": "code",
   "execution_count": 14,
   "metadata": {},
   "outputs": [],
   "source": [
    "L.append('Hello')\n",
    "L.append(3.4)\n",
    "L.append(True)\n",
    "L.append(100)"
   ]
  },
  {
   "cell_type": "code",
   "execution_count": 15,
   "metadata": {},
   "outputs": [
    {
     "data": {
      "text/plain": [
       "3"
      ]
     },
     "execution_count": 15,
     "metadata": {},
     "output_type": "execute_result"
    }
   ],
   "source": [
    "L.find(100)"
   ]
  },
  {
   "cell_type": "code",
   "execution_count": 16,
   "metadata": {},
   "outputs": [
    {
     "data": {
      "text/plain": [
       "0"
      ]
     },
     "execution_count": 16,
     "metadata": {},
     "output_type": "execute_result"
    }
   ],
   "source": [
    "L.find('Hello')"
   ]
  },
  {
   "cell_type": "markdown",
   "metadata": {},
   "source": [
    "### **insert()**"
   ]
  },
  {
   "cell_type": "code",
   "execution_count": 17,
   "metadata": {},
   "outputs": [
    {
     "name": "stdout",
     "output_type": "stream",
     "text": [
      "[Hello,3.4,True,100]\n"
     ]
    }
   ],
   "source": [
    "print(L)"
   ]
  },
  {
   "cell_type": "code",
   "execution_count": 18,
   "metadata": {},
   "outputs": [],
   "source": [
    "L.insert(0, 0)"
   ]
  },
  {
   "cell_type": "code",
   "execution_count": 19,
   "metadata": {},
   "outputs": [
    {
     "name": "stdout",
     "output_type": "stream",
     "text": [
      "[0,Hello,3.4,True,100]\n"
     ]
    }
   ],
   "source": [
    "print(L)"
   ]
  },
  {
   "cell_type": "code",
   "execution_count": 21,
   "metadata": {},
   "outputs": [],
   "source": [
    "L.insert(3, 'word')"
   ]
  },
  {
   "cell_type": "code",
   "execution_count": 22,
   "metadata": {},
   "outputs": [
    {
     "name": "stdout",
     "output_type": "stream",
     "text": [
      "[0,Hello,3.4,word,True,100]\n"
     ]
    }
   ],
   "source": [
    "print(L)"
   ]
  },
  {
   "cell_type": "code",
   "execution_count": null,
   "metadata": {},
   "outputs": [],
   "source": []
  }
 ],
 "metadata": {
  "kernelspec": {
   "display_name": "ds_env",
   "language": "python",
   "name": "python3"
  },
  "language_info": {
   "codemirror_mode": {
    "name": "ipython",
    "version": 3
   },
   "file_extension": ".py",
   "mimetype": "text/x-python",
   "name": "python",
   "nbconvert_exporter": "python",
   "pygments_lexer": "ipython3",
   "version": "3.10.4"
  },
  "orig_nbformat": 4
 },
 "nbformat": 4,
 "nbformat_minor": 2
}
