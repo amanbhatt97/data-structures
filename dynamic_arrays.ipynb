{
 "cells": [
  {
   "cell_type": "markdown",
   "metadata": {},
   "source": [
    "## **Creating Dynamic Array**"
   ]
  },
  {
   "cell_type": "markdown",
   "metadata": {},
   "source": [
    "**We will use 'C' array to create 'Python' list with following features:**<br>\n",
    "* len\n",
    "* append\n",
    "* print\n",
    "* indexing\n",
    "* pop\n",
    "* clear\n",
    "* find\n",
    "* insert\n",
    "* delete\n",
    "* remove"
   ]
  },
  {
   "cell_type": "markdown",
   "metadata": {},
   "source": [
    "### **Creating Python list**"
   ]
  },
  {
   "cell_type": "code",
   "execution_count": 1,
   "metadata": {},
   "outputs": [],
   "source": [
    "# to call functions written in C\n",
    "import ctypes"
   ]
  },
  {
   "cell_type": "code",
   "execution_count": 2,
   "metadata": {},
   "outputs": [],
   "source": [
    "class MeraList:\n",
    "\n",
    "    #----- constructor -----#\n",
    "    def __init__(self):\n",
    "\n",
    "        # initialize size of array\n",
    "        self.size = 1\n",
    "\n",
    "        # initialize number of elements in array\n",
    "        self.n = 0\n",
    "\n",
    "        # create a C type array with size = self.size\n",
    "        self.A = self._make_array(self.size)\n",
    "\n",
    "\n",
    "    #----- creating list -----#\n",
    "    def _make_array(self, capacity):\n",
    "\n",
    "        # creating a Ctype array(static,referential) with capacity = size\n",
    "        return (capacity * ctypes.py_object)()    \n",
    "\n",
    "    \n",
    "    #----- len() -----#\n",
    "    def __len__(self):      # magic method  \n",
    "\n",
    "        # length = n\n",
    "        return self.n\n",
    "\n",
    "    \n",
    "    #----- append() -----#\n",
    "    def append(self, item):\n",
    "\n",
    "        # check if array is full\n",
    "        if self.n == self.size:\n",
    "\n",
    "            # if array is full -> resize the array\n",
    "            self.__resize(self.size * 2)\n",
    "        \n",
    "        # append at A[n]\n",
    "        self.A[self.n] == item\n",
    "\n",
    "        # increment n by 1\n",
    "        self.n = self.n + 1\n",
    "\n",
    "    def __resize(self, new_capacity):\n",
    "        \n",
    "        # create array of new capacity\n",
    "        B = self._make_array(new_capacity)\n",
    "\n",
    "        # now, size = new capacity\n",
    "        self.size = new_capacity\n",
    "\n",
    "        # copy contents of A to B\n",
    "        for i in range(self.n):\n",
    "            B[i] = self.A[i]\n",
    "\n",
    "        # reassign A\n",
    "        self.A = B\n",
    "\n",
    "\n",
    "    #----- print() -----#\n",
    "    def __str__(self):      # magic method\n",
    "\n",
    "        # initialize result\n",
    "        result = ''\n",
    "\n",
    "        # loop over array and add elements\n",
    "        for i in range(self.n):\n",
    "            result = result + str(self.A[i]) + ','\n",
    "\n",
    "        return '[' + result[:-1] + ']'\n",
    "\n",
    "    \n",
    "    #----- indexing -----#\n",
    "    def __getitem__(self, index):       # magic method\n",
    "\n",
    "        # if index is between 0 and self.n\n",
    "        if 0 <= index < self.n:\n",
    "            return self.A[index]\n",
    "\n",
    "        else:\n",
    "            return 'IndexError: list index out of range'\n",
    "\n",
    "\n",
    "    #----- pop -----#\n",
    "    "
   ]
  },
  {
   "cell_type": "code",
   "execution_count": 3,
   "metadata": {},
   "outputs": [],
   "source": [
    "# creating object\n",
    "L = MeraList()"
   ]
  },
  {
   "cell_type": "code",
   "execution_count": 4,
   "metadata": {},
   "outputs": [
    {
     "data": {
      "text/plain": [
       "__main__.MeraList"
      ]
     },
     "execution_count": 4,
     "metadata": {},
     "output_type": "execute_result"
    }
   ],
   "source": [
    "type(L)"
   ]
  },
  {
   "cell_type": "markdown",
   "metadata": {},
   "source": [
    "**L is an object of class MeraList**"
   ]
  },
  {
   "cell_type": "code",
   "execution_count": 5,
   "metadata": {},
   "outputs": [
    {
     "name": "stdout",
     "output_type": "stream",
     "text": [
      "[]\n"
     ]
    }
   ],
   "source": [
    "print(L)"
   ]
  },
  {
   "cell_type": "markdown",
   "metadata": {},
   "source": [
    "**It prints memory address of L** "
   ]
  },
  {
   "cell_type": "markdown",
   "metadata": {},
   "source": [
    "### **len**"
   ]
  },
  {
   "cell_type": "code",
   "execution_count": 6,
   "metadata": {},
   "outputs": [],
   "source": [
    "L = [1,2,3]"
   ]
  },
  {
   "cell_type": "code",
   "execution_count": 7,
   "metadata": {},
   "outputs": [
    {
     "data": {
      "text/plain": [
       "3"
      ]
     },
     "execution_count": 7,
     "metadata": {},
     "output_type": "execute_result"
    }
   ],
   "source": [
    "len(L)"
   ]
  },
  {
   "cell_type": "markdown",
   "metadata": {},
   "source": [
    "### **append**"
   ]
  },
  {
   "cell_type": "code",
   "execution_count": 8,
   "metadata": {},
   "outputs": [],
   "source": [
    "L.append(0)\n",
    "L.append(3.4)\n",
    "L.append('Hello')"
   ]
  },
  {
   "cell_type": "code",
   "execution_count": 9,
   "metadata": {},
   "outputs": [
    {
     "data": {
      "text/plain": [
       "[1, 2, 3, 0, 3.4, 'Hello']"
      ]
     },
     "execution_count": 9,
     "metadata": {},
     "output_type": "execute_result"
    }
   ],
   "source": [
    "L"
   ]
  },
  {
   "cell_type": "markdown",
   "metadata": {},
   "source": [
    "### **print()**"
   ]
  },
  {
   "cell_type": "code",
   "execution_count": 10,
   "metadata": {},
   "outputs": [
    {
     "name": "stdout",
     "output_type": "stream",
     "text": [
      "[1, 2, 3, 0, 3.4, 'Hello']\n"
     ]
    }
   ],
   "source": [
    "print(L)"
   ]
  },
  {
   "cell_type": "markdown",
   "metadata": {},
   "source": [
    "### **indexing**"
   ]
  },
  {
   "cell_type": "code",
   "execution_count": 11,
   "metadata": {},
   "outputs": [
    {
     "ename": "IndexError",
     "evalue": "list index out of range",
     "output_type": "error",
     "traceback": [
      "\u001b[0;31m---------------------------------------------------------------------------\u001b[0m",
      "\u001b[0;31mIndexError\u001b[0m                                Traceback (most recent call last)",
      "Cell \u001b[0;32mIn[11], line 1\u001b[0m\n\u001b[0;32m----> 1\u001b[0m L[\u001b[39m100\u001b[39;49m]\n",
      "\u001b[0;31mIndexError\u001b[0m: list index out of range"
     ]
    }
   ],
   "source": [
    "L[100]"
   ]
  },
  {
   "cell_type": "markdown",
   "metadata": {},
   "source": [
    "### **pop**"
   ]
  },
  {
   "cell_type": "code",
   "execution_count": 12,
   "metadata": {},
   "outputs": [
    {
     "data": {
      "text/plain": [
       "'Hello'"
      ]
     },
     "execution_count": 12,
     "metadata": {},
     "output_type": "execute_result"
    }
   ],
   "source": [
    "L.pop()"
   ]
  },
  {
   "cell_type": "code",
   "execution_count": null,
   "metadata": {},
   "outputs": [],
   "source": []
  }
 ],
 "metadata": {
  "kernelspec": {
   "display_name": "ds_env",
   "language": "python",
   "name": "python3"
  },
  "language_info": {
   "codemirror_mode": {
    "name": "ipython",
    "version": 3
   },
   "file_extension": ".py",
   "mimetype": "text/x-python",
   "name": "python",
   "nbconvert_exporter": "python",
   "pygments_lexer": "ipython3",
   "version": "3.10.4"
  },
  "orig_nbformat": 4
 },
 "nbformat": 4,
 "nbformat_minor": 2
}
