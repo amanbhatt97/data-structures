{
 "cells": [
  {
   "cell_type": "markdown",
   "metadata": {},
   "source": [
    "## **Two Sum**\n",
    "Given an array of integers nums and an integer target, return indices of the two numbers such that they add up to target.<br>\n",
    "You may assume that each input would have exactly one solution, and you may not use the same element twice.<br>\n",
    "You can return the answer in any order.\n",
    "\n",
    "**Example 1:**\n",
    "Input: nums = [2,7,11,15], target = 9<br>\n",
    "Output: [0,1]<br>\n",
    "Explanation: Because nums[0] + nums[1] == 9, we return [0, 1].<br>\n",
    "\n",
    "**Example 2:**\n",
    "Input: nums = [3,2,4], target = 6<br>\n",
    "Output: [1,2]<br>\n",
    "\n",
    "**Example 3:**\n",
    "Input: nums = [3,3], target = 6<br>\n",
    "Output: [0,1]"
   ]
  },
  {
   "cell_type": "code",
   "execution_count": 3,
   "metadata": {},
   "outputs": [],
   "source": [
    "class Solution:\n",
    "\n",
    "    def twoSum(self, nums: list[int], target: int) -> list[int]:\n",
    "\n",
    "        \"\"\" code starts here \"\"\"\n",
    "\n",
    "        # create empty dictionary to store numbers and their indices\n",
    "        dict = {}           # dict[key] = value\n",
    "\n",
    "        # iterate over nums to get numbers and their indices\n",
    "        for index, num in enumerate(nums):\n",
    "\n",
    "            # second number needed to reach target\n",
    "            second_num = target - num\n",
    "\n",
    "            if second_num in dict:\n",
    "\n",
    "                # return list of indices\n",
    "                return [dict[second_num], index]\n",
    "\n",
    "            # store num\n",
    "            dict[num] = index\n",
    "\n",
    "        # return empty list if no solution found\n",
    "        return []"
   ]
  },
  {
   "cell_type": "code",
   "execution_count": 5,
   "metadata": {},
   "outputs": [
    {
     "data": {
      "text/plain": [
       "[0, 1]"
      ]
     },
     "execution_count": 5,
     "metadata": {},
     "output_type": "execute_result"
    }
   ],
   "source": [
    "solution = Solution()\n",
    "solution.twoSum([2,7,11,15], 9)"
   ]
  },
  {
   "cell_type": "code",
   "execution_count": null,
   "metadata": {},
   "outputs": [],
   "source": []
  }
 ],
 "metadata": {
  "kernelspec": {
   "display_name": "ds_env",
   "language": "python",
   "name": "python3"
  },
  "language_info": {
   "codemirror_mode": {
    "name": "ipython",
    "version": 3
   },
   "file_extension": ".py",
   "mimetype": "text/x-python",
   "name": "python",
   "nbconvert_exporter": "python",
   "pygments_lexer": "ipython3",
   "version": "3.10.4"
  },
  "orig_nbformat": 4
 },
 "nbformat": 4,
 "nbformat_minor": 2
}
