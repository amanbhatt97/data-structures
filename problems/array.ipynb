{
 "cells": [
  {
   "cell_type": "markdown",
   "metadata": {},
   "source": [
    "## **Two Sum**\n",
    "Given an array of integers nums and an integer target, return indices of the two numbers such that they add up to target.<br>\n",
    "You may assume that each input would have exactly one solution, and you may not use the same element twice.<br>\n",
    "You can return the answer in any order.\n",
    "\n",
    "**Example 1:**\n",
    "Input: nums = [2,7,11,15], target = 9<br>\n",
    "Output: [0,1]<br>\n",
    "Explanation: Because nums[0] + nums[1] == 9, we return [0, 1].<br>\n",
    "\n",
    "**Example 2:**\n",
    "Input: nums = [3,2,4], target = 6<br>\n",
    "Output: [1,2]<br>\n",
    "\n",
    "**Example 3:**\n",
    "Input: nums = [3,3], target = 6<br>\n",
    "Output: [0,1]"
   ]
  },
  {
   "cell_type": "code",
   "execution_count": 3,
   "metadata": {},
   "outputs": [],
   "source": [
    "class Solution:\n",
    "\n",
    "    def twoSum(self, nums: list[int], target: int) -> list[int]:\n",
    "\n",
    "        \"\"\" code starts here \"\"\"\n",
    "\n",
    "        # create empty dictionary to store numbers and their indices\n",
    "        dict = {}           # dict[key] = value\n",
    "\n",
    "        # iterate over nums to get numbers and their indices\n",
    "        for index, num in enumerate(nums):\n",
    "\n",
    "            # second number needed to reach target\n",
    "            second_num = target - num\n",
    "\n",
    "            if second_num in dict:\n",
    "\n",
    "                # return list of indices\n",
    "                return [dict[second_num], index]\n",
    "\n",
    "            # store num\n",
    "            dict[num] = index\n",
    "\n",
    "        # return empty list if no solution found\n",
    "        return []"
   ]
  },
  {
   "cell_type": "code",
   "execution_count": 5,
   "metadata": {},
   "outputs": [
    {
     "data": {
      "text/plain": [
       "[0, 1]"
      ]
     },
     "execution_count": 5,
     "metadata": {},
     "output_type": "execute_result"
    }
   ],
   "source": [
    "solution = Solution()\n",
    "solution.twoSum([2,7,11,15], 9)"
   ]
  },
  {
   "cell_type": "markdown",
   "metadata": {},
   "source": [
    "## **Remove Duplicates from Sorted Array**\n",
    "\n",
    "Given an integer array nums sorted in non-decreasing order, remove the duplicates in-place such that each unique element appears only once.<br> The relative order of the elements should be kept the same.<br> Then return the number of unique elements in nums.\n",
    "\n",
    "Consider the number of unique elements of nums to be k, to get accepted, you need to do the following things:\n",
    "\n",
    "Change the array nums such that the first k elements of nums contain the unique elements in the order they were present in nums initially.<br> The remaining elements of nums are not important as well as the size of nums.<br>\n",
    "Return k.<br>\n",
    "\n",
    "\n",
    "**Example 1:**<br>\n",
    "Input: nums = [1,1,2]<br>\n",
    "Output: 2, nums = [1,2,_]<br>\n",
    "Explanation: Your function should return k = 2, with the first two elements of nums being 1 and 2 respectively.<br>\n",
    "It does not matter what you leave beyond the returned k (hence they are underscores).\n",
    "\n",
    "**Example 2:**<br>\n",
    "Input: nums = [0,0,1,1,1,2,2,3,3,4]<br>\n",
    "Output: 5, nums = [0,1,2,3,4,_,_,_,_,_]<br>\n",
    "Explanation: Your function should return k = 5, with the first five elements of nums being 0, 1, 2, 3, and 4 respectively.<br>\n",
    "It does not matter what you leave beyond the returned k (hence they are underscores).\n",
    "\n"
   ]
  },
  {
   "cell_type": "code",
   "execution_count": 62,
   "metadata": {},
   "outputs": [],
   "source": [
    "class Solution:\n",
    "\n",
    "    def removeDuplicates(self, nums: list[int]) -> int:\n",
    "\n",
    "        \"\"\" code starts here \"\"\"\n",
    "\n",
    "        n = []\n",
    "        n.append(nums[0])\n",
    "\n",
    "        for i in range(len(nums)):\n",
    "\n",
    "            if (n[-1] != nums[i]):\n",
    "\n",
    "                n.append(nums[i])\n",
    "\n",
    "        nums = n\n",
    "\n",
    "        return len(nums)"
   ]
  },
  {
   "cell_type": "code",
   "execution_count": 63,
   "metadata": {},
   "outputs": [
    {
     "data": {
      "text/plain": [
       "5"
      ]
     },
     "execution_count": 63,
     "metadata": {},
     "output_type": "execute_result"
    }
   ],
   "source": [
    "solution = Solution()\n",
    "solution.removeDuplicates([0,0,1,1,1,2,2,3,3,4])"
   ]
  },
  {
   "cell_type": "code",
   "execution_count": null,
   "metadata": {},
   "outputs": [],
   "source": []
  }
 ],
 "metadata": {
  "kernelspec": {
   "display_name": "ds_env",
   "language": "python",
   "name": "python3"
  },
  "language_info": {
   "codemirror_mode": {
    "name": "ipython",
    "version": 3
   },
   "file_extension": ".py",
   "mimetype": "text/x-python",
   "name": "python",
   "nbconvert_exporter": "python",
   "pygments_lexer": "ipython3",
   "version": "3.10.4"
  },
  "orig_nbformat": 4
 },
 "nbformat": 4,
 "nbformat_minor": 2
}
