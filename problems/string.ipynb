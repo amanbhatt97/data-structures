{
 "cells": [
  {
   "cell_type": "markdown",
   "metadata": {},
   "source": [
    "### **Longest Common Prefix**\n",
    "Write a function to find the longest common prefix string amongst an array of strings.<br>\n",
    "If there is no common prefix, return an empty string \"\".<br>\n",
    "\n",
    "**Example 1:**\n",
    "Input: strs = [\"flower\",\"flow\",\"flight\"]<br>\n",
    "Output: \"fl\"<br>\n",
    "\n",
    "**Example 2:**\n",
    "Input: strs = [\"dog\",\"racecar\",\"car\"]<br>\n",
    "Output: \"\"<br>\n",
    "Explanation: There is no common prefix among the input strings."
   ]
  },
  {
   "cell_type": "code",
   "execution_count": 77,
   "metadata": {},
   "outputs": [],
   "source": [
    "class Solution:\n",
    "\n",
    "    def longestCommonPrefix(self, strs: list[str]) -> str:\n",
    "\n",
    "        \"\"\" code starts here \"\"\"\n",
    "\n",
    "        # initialize string to store prefixes\n",
    "        string = ''\n",
    "\n",
    "        # sort the list based on length\n",
    "        s = sorted(strs)\n",
    "\n",
    "        # first and last string in list\n",
    "        first_str = s[0]\n",
    "        last_str = s[-1]\n",
    "\n",
    "        # run loop till lenth of last string which will have the minimum length\n",
    "        for i in range(len(first_str)):\n",
    "\n",
    "            # check if ith value of sirst and last string are same\n",
    "            if (first_str[i] != last_str[i]):\n",
    "                return string\n",
    "            \n",
    "            # if same -> add into the string\n",
    "            string = string + first_str[i]\n",
    "        \n",
    "        return string"
   ]
  },
  {
   "cell_type": "code",
   "execution_count": 78,
   "metadata": {},
   "outputs": [],
   "source": [
    "strs = [\"flower\",\"flower\",\"flower\",\"flower\"]"
   ]
  },
  {
   "cell_type": "code",
   "execution_count": 80,
   "metadata": {},
   "outputs": [
    {
     "data": {
      "text/plain": [
       "'flower'"
      ]
     },
     "execution_count": 80,
     "metadata": {},
     "output_type": "execute_result"
    }
   ],
   "source": [
    "solution = Solution()\n",
    "solution.longestCommonPrefix(strs)"
   ]
  },
  {
   "cell_type": "code",
   "execution_count": null,
   "metadata": {},
   "outputs": [],
   "source": []
  }
 ],
 "metadata": {
  "kernelspec": {
   "display_name": "ds_env",
   "language": "python",
   "name": "python3"
  },
  "language_info": {
   "codemirror_mode": {
    "name": "ipython",
    "version": 3
   },
   "file_extension": ".py",
   "mimetype": "text/x-python",
   "name": "python",
   "nbconvert_exporter": "python",
   "pygments_lexer": "ipython3",
   "version": "3.10.4"
  },
  "orig_nbformat": 4
 },
 "nbformat": 4,
 "nbformat_minor": 2
}
